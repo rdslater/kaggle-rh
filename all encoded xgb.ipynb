{
 "cells": [
  {
   "cell_type": "code",
   "execution_count": 80,
   "metadata": {
    "collapsed": false
   },
   "outputs": [
    {
     "data": {
      "text/html": [
       "<div>\n",
       "<table border=\"1\" class=\"dataframe\">\n",
       "  <thead>\n",
       "    <tr style=\"text-align: right;\">\n",
       "      <th></th>\n",
       "      <th>id</th>\n",
       "      <th>timestamp</th>\n",
       "      <th>full_sq</th>\n",
       "      <th>life_sq</th>\n",
       "      <th>floor</th>\n",
       "      <th>max_floor</th>\n",
       "      <th>material</th>\n",
       "      <th>build_year</th>\n",
       "      <th>num_room</th>\n",
       "      <th>kitch_sq</th>\n",
       "      <th>...</th>\n",
       "      <th>cafe_count_5000_price_2500</th>\n",
       "      <th>cafe_count_5000_price_4000</th>\n",
       "      <th>cafe_count_5000_price_high</th>\n",
       "      <th>big_church_count_5000</th>\n",
       "      <th>church_count_5000</th>\n",
       "      <th>mosque_count_5000</th>\n",
       "      <th>leisure_count_5000</th>\n",
       "      <th>sport_count_5000</th>\n",
       "      <th>market_count_5000</th>\n",
       "      <th>price_doc</th>\n",
       "    </tr>\n",
       "  </thead>\n",
       "  <tbody>\n",
       "    <tr>\n",
       "      <th>25644</th>\n",
       "      <td>25647</td>\n",
       "      <td>2014-12-02</td>\n",
       "      <td>39</td>\n",
       "      <td>22.0</td>\n",
       "      <td>2.0</td>\n",
       "      <td>12.0</td>\n",
       "      <td>5.0</td>\n",
       "      <td>1974.0</td>\n",
       "      <td>2.0</td>\n",
       "      <td>6.0</td>\n",
       "      <td>...</td>\n",
       "      <td>24</td>\n",
       "      <td>4</td>\n",
       "      <td>0</td>\n",
       "      <td>5</td>\n",
       "      <td>19</td>\n",
       "      <td>1</td>\n",
       "      <td>4</td>\n",
       "      <td>49</td>\n",
       "      <td>5</td>\n",
       "      <td>7200000</td>\n",
       "    </tr>\n",
       "    <tr>\n",
       "      <th>18934</th>\n",
       "      <td>18937</td>\n",
       "      <td>2014-05-27</td>\n",
       "      <td>41</td>\n",
       "      <td>27.0</td>\n",
       "      <td>4.0</td>\n",
       "      <td>5.0</td>\n",
       "      <td>2.0</td>\n",
       "      <td>1966.0</td>\n",
       "      <td>2.0</td>\n",
       "      <td>5.0</td>\n",
       "      <td>...</td>\n",
       "      <td>3</td>\n",
       "      <td>3</td>\n",
       "      <td>0</td>\n",
       "      <td>7</td>\n",
       "      <td>16</td>\n",
       "      <td>0</td>\n",
       "      <td>9</td>\n",
       "      <td>49</td>\n",
       "      <td>10</td>\n",
       "      <td>6500000</td>\n",
       "    </tr>\n",
       "    <tr>\n",
       "      <th>28683</th>\n",
       "      <td>28686</td>\n",
       "      <td>2015-03-28</td>\n",
       "      <td>38</td>\n",
       "      <td>NaN</td>\n",
       "      <td>5.0</td>\n",
       "      <td>17.0</td>\n",
       "      <td>1.0</td>\n",
       "      <td>NaN</td>\n",
       "      <td>1.0</td>\n",
       "      <td>0.0</td>\n",
       "      <td>...</td>\n",
       "      <td>1</td>\n",
       "      <td>1</td>\n",
       "      <td>0</td>\n",
       "      <td>2</td>\n",
       "      <td>12</td>\n",
       "      <td>0</td>\n",
       "      <td>0</td>\n",
       "      <td>9</td>\n",
       "      <td>0</td>\n",
       "      <td>5437752</td>\n",
       "    </tr>\n",
       "  </tbody>\n",
       "</table>\n",
       "<p>3 rows × 292 columns</p>\n",
       "</div>"
      ],
      "text/plain": [
       "          id   timestamp  full_sq  life_sq  floor  max_floor  material  \\\n",
       "25644  25647  2014-12-02       39     22.0    2.0       12.0       5.0   \n",
       "18934  18937  2014-05-27       41     27.0    4.0        5.0       2.0   \n",
       "28683  28686  2015-03-28       38      NaN    5.0       17.0       1.0   \n",
       "\n",
       "       build_year  num_room  kitch_sq    ...      cafe_count_5000_price_2500  \\\n",
       "25644      1974.0       2.0       6.0    ...                              24   \n",
       "18934      1966.0       2.0       5.0    ...                               3   \n",
       "28683         NaN       1.0       0.0    ...                               1   \n",
       "\n",
       "      cafe_count_5000_price_4000 cafe_count_5000_price_high  \\\n",
       "25644                          4                          0   \n",
       "18934                          3                          0   \n",
       "28683                          1                          0   \n",
       "\n",
       "       big_church_count_5000  church_count_5000  mosque_count_5000  \\\n",
       "25644                      5                 19                  1   \n",
       "18934                      7                 16                  0   \n",
       "28683                      2                 12                  0   \n",
       "\n",
       "       leisure_count_5000  sport_count_5000  market_count_5000  price_doc  \n",
       "25644                   4                49                  5    7200000  \n",
       "18934                   9                49                 10    6500000  \n",
       "28683                   0                 9                  0    5437752  \n",
       "\n",
       "[3 rows x 292 columns]"
      ]
     },
     "execution_count": 80,
     "metadata": {},
     "output_type": "execute_result"
    }
   ],
   "source": [
    "\n",
    "\n",
    "import numpy as np\n",
    "import pandas as pd\n",
    "import matplotlib.pyplot as plt\n",
    "import seaborn as sns\n",
    "%matplotlib inline\n",
    "from sklearn import model_selection, preprocessing\n",
    "import xgboost as xgb\n",
    "import datetime\n",
    "#now = datetime.datetime.now()\n",
    "\n",
    "train = pd.read_csv('./data/train.csv')\n",
    "test = pd.read_csv('./data/test.csv')\n",
    "macro = pd.read_csv('./data/macro.csv')\n",
    "id_test = test.id\n",
    "train.sample(3)"
   ]
  },
  {
   "cell_type": "code",
   "execution_count": 81,
   "metadata": {
    "collapsed": true
   },
   "outputs": [],
   "source": [
    "y_train = train[\"price_doc\"]\n",
    "x_train = train.drop([\"id\", \"timestamp\", \"price_doc\"], axis=1)\n",
    "x_test = test.drop([\"id\", \"timestamp\"], axis=1)\n",
    "\n",
    "#can't merge train with test because the kernel run for very long time\n",
    "\n",
    "for c in x_train.columns:\n",
    "    if x_train[c].dtype == 'object':\n",
    "        lbl = preprocessing.LabelEncoder()\n",
    "        lbl.fit(list(x_train[c].values)) \n",
    "        x_train[c] = lbl.transform(list(x_train[c].values))\n",
    "        #x_train.drop(c,axis=1,inplace=True)\n",
    "        \n",
    "for c in x_test.columns:\n",
    "    if x_test[c].dtype == 'object':\n",
    "        lbl = preprocessing.LabelEncoder()\n",
    "        lbl.fit(list(x_test[c].values)) \n",
    "        x_test[c] = lbl.transform(list(x_test[c].values))\n",
    "        #x_test.drop(c,axis=1,inplace=True)    "
   ]
  },
  {
   "cell_type": "code",
   "execution_count": 3,
   "metadata": {
    "collapsed": false
   },
   "outputs": [],
   "source": [
    "dtrain = xgb.DMatrix(x_train, y_train)\n",
    "dtest = xgb.DMatrix(x_test)"
   ]
  },
  {
   "cell_type": "code",
   "execution_count": 4,
   "metadata": {
    "collapsed": true
   },
   "outputs": [],
   "source": [
    "def xgb_evaluate(min_child_weight,\n",
    "                 colsample_bytree,\n",
    "                 max_depth,\n",
    "                 subsample,\n",
    "                 gamma,\n",
    "                 reg_lambda,\n",
    "                 alpha):\n",
    "#add l2\n",
    "    params['min_child_weight'] = int(min_child_weight)\n",
    "    params['cosample_bytree'] = max(min(colsample_bytree, 1), 0)\n",
    "    params['max_depth'] = int(max_depth)\n",
    "    params['subsample'] = max(min(subsample, 1), 0)\n",
    "    params['gamma'] = max(gamma, 0)\n",
    "    params['alpha'] = max(alpha, 0)\n",
    "    params['reg_lambda']=max(reg_lambda,0)\n",
    "\n",
    "    cv_result = xgb.cv(params, dtrain, num_boost_round=num_rounds, nfold=5,\n",
    "             seed=random_state,\n",
    "             callbacks=[xgb.callback.early_stop(10)])\n",
    "\n",
    "    return -cv_result['test-rmse-mean'].values[-1]\n"
   ]
  },
  {
   "cell_type": "code",
   "execution_count": 13,
   "metadata": {
    "collapsed": false
   },
   "outputs": [],
   "source": [
    "    from bayes_opt import BayesianOptimization\n",
    "    num_rounds = 3000\n",
    "    random_state = 2016\n",
    "    num_iter = 50\n",
    "    init_points = 10\n",
    "    params = {\n",
    "        'eta': 0.05,\n",
    "        'silent': 1,\n",
    "        'eval_metric': 'rmse',\n",
    "        'verbose_eval': True,\n",
    "        'seed': random_state\n",
    "        \n",
    "    }\n",
    "    \n",
    "    xgbBO = BayesianOptimization(xgb_evaluate, {'min_child_weight': (1, 20),\n",
    "                                                'colsample_bytree': (0.1, 1),\n",
    "                                                'max_depth': (3, 15),\n",
    "                                                'subsample': (0.5, 1),\n",
    "                                                'gamma': (0, 10),\n",
    "                                                'alpha': (0, 10),\n",
    "                                                'reg_lambda':(0.5,10)\n",
    "})"
   ]
  },
  {
   "cell_type": "code",
   "execution_count": 14,
   "metadata": {
    "collapsed": false
   },
   "outputs": [
    {
     "name": "stdout",
     "output_type": "stream",
     "text": [
      "\u001b[31mInitialization\u001b[0m\n",
      "\u001b[94m------------------------------------------------------------------------------------------------------------------------------------------\u001b[0m\n",
      " Step |   Time |      Value |     alpha |   colsample_bytree |     gamma |   max_depth |   min_child_weight |   reg_lambda |   subsample | \n",
      "Multiple eval metrics have been passed: 'test-rmse' will be used for early stopping.\n",
      "\n",
      "Will train until test-rmse hasn't improved in 10 rounds.\n",
      "Stopping. Best iteration:\n",
      "[249]\ttrain-rmse:1.95631e+06+16234.8\ttest-rmse:2.65008e+06+120947\n",
      "\n",
      "    1 | 02m01s | \u001b[35m-2650081.75000\u001b[0m | \u001b[32m   0.0000\u001b[0m | \u001b[32m            0.7000\u001b[0m | \u001b[32m   0.0000\u001b[0m | \u001b[32m     5.0000\u001b[0m | \u001b[32m            1.0000\u001b[0m | \u001b[32m      1.0000\u001b[0m | \u001b[32m     0.7000\u001b[0m | \n",
      "Multiple eval metrics have been passed: 'test-rmse' will be used for early stopping.\n",
      "\n",
      "Will train until test-rmse hasn't improved in 10 rounds.\n",
      "Stopping. Best iteration:\n",
      "[255]\ttrain-rmse:1.72683e+06+48935.1\ttest-rmse:2.62698e+06+117652\n",
      "\n",
      "    2 | 03m21s | \u001b[35m-2626977.25000\u001b[0m | \u001b[32m   0.9249\u001b[0m | \u001b[32m            0.4849\u001b[0m | \u001b[32m   9.8657\u001b[0m | \u001b[32m     8.4203\u001b[0m | \u001b[32m           17.4412\u001b[0m | \u001b[32m      3.7443\u001b[0m | \u001b[32m     0.9164\u001b[0m | \n",
      "Multiple eval metrics have been passed: 'test-rmse' will be used for early stopping.\n",
      "\n",
      "Will train until test-rmse hasn't improved in 10 rounds.\n",
      "Stopping. Best iteration:\n",
      "[164]\ttrain-rmse:1.45323e+06+49305.9\ttest-rmse:2.64335e+06+110053\n",
      "\n",
      "    3 | 03m40s | -2643347.80000 |    0.6675 |             0.8422 |    0.1898 |     13.3927 |             9.8788 |       8.8267 |      0.6597 | \n",
      "Multiple eval metrics have been passed: 'test-rmse' will be used for early stopping.\n",
      "\n",
      "Will train until test-rmse hasn't improved in 10 rounds.\n",
      "Stopping. Best iteration:\n",
      "[191]\ttrain-rmse:1.59752e+06+45498.5\ttest-rmse:2.64002e+06+134635\n",
      "\n",
      "    4 | 03m31s | -2640023.80000 |    0.9395 |             0.9312 |    6.5900 |     11.4105 |            18.1771 |       4.2366 |      0.7989 | \n",
      "Multiple eval metrics have been passed: 'test-rmse' will be used for early stopping.\n",
      "\n",
      "Will train until test-rmse hasn't improved in 10 rounds.\n",
      "Stopping. Best iteration:\n",
      "[199]\ttrain-rmse:1.74658e+06+55163.6\ttest-rmse:2.63894e+06+118896\n",
      "\n",
      "    5 | 02m58s | -2638940.85000 |    3.7466 |             0.2338 |    3.0236 |      9.3346 |            19.9818 |       7.8068 |      0.9634 | \n",
      "Multiple eval metrics have been passed: 'test-rmse' will be used for early stopping.\n",
      "\n",
      "Will train until test-rmse hasn't improved in 10 rounds.\n",
      "Stopping. Best iteration:\n",
      "[442]\ttrain-rmse:2.10455e+06+30281.9\ttest-rmse:2.63839e+06+126601\n",
      "\n",
      "    6 | 02m53s | -2638392.50000 |    3.9187 |             0.8238 |    3.2573 |      4.6529 |             9.6653 |       9.3829 |      0.8296 | \n",
      "Multiple eval metrics have been passed: 'test-rmse' will be used for early stopping.\n",
      "\n",
      "Will train until test-rmse hasn't improved in 10 rounds.\n",
      "Stopping. Best iteration:\n",
      "[538]\ttrain-rmse:2.2594e+06+32746\ttest-rmse:2.67372e+06+118144\n",
      "\n",
      "    7 | 02m38s | -2673720.70000 |    0.7395 |             0.6676 |    9.6820 |      3.7244 |            15.5737 |       0.8699 |      0.9598 | \n",
      "Multiple eval metrics have been passed: 'test-rmse' will be used for early stopping.\n",
      "\n",
      "Will train until test-rmse hasn't improved in 10 rounds.\n",
      "Stopping. Best iteration:\n",
      "[311]\ttrain-rmse:1.79056e+06+24788.5\ttest-rmse:2.62418e+06+120948\n",
      "\n",
      "    8 | 03m08s | \u001b[35m-2624183.35000\u001b[0m | \u001b[32m   2.0755\u001b[0m | \u001b[32m            0.2783\u001b[0m | \u001b[32m   4.8138\u001b[0m | \u001b[32m     6.2605\u001b[0m | \u001b[32m            3.9252\u001b[0m | \u001b[32m      5.6006\u001b[0m | \u001b[32m     0.6287\u001b[0m | \n",
      "Multiple eval metrics have been passed: 'test-rmse' will be used for early stopping.\n",
      "\n",
      "Will train until test-rmse hasn't improved in 10 rounds.\n",
      "Stopping. Best iteration:\n",
      "[233]\ttrain-rmse:1.92576e+06+33525.2\ttest-rmse:2.6502e+06+114623\n",
      "\n",
      "    9 | 02m43s | -2650198.15000 |    0.1496 |             0.4867 |    6.5403 |      7.4967 |            14.5263 |       3.6599 |      0.6582 | \n",
      "Multiple eval metrics have been passed: 'test-rmse' will be used for early stopping.\n",
      "\n",
      "Will train until test-rmse hasn't improved in 10 rounds.\n",
      "Stopping. Best iteration:\n",
      "[220]\ttrain-rmse:1.38969e+06+37596.3\ttest-rmse:2.64501e+06+124660\n",
      "\n",
      "   10 | 03m45s | -2645013.65000 |    5.4534 |             0.4174 |    2.1962 |     10.6209 |             5.0475 |       8.5776 |      0.7357 | \n",
      "Multiple eval metrics have been passed: 'test-rmse' will be used for early stopping.\n",
      "\n",
      "Will train until test-rmse hasn't improved in 10 rounds.\n",
      "Stopping. Best iteration:\n",
      "[408]\ttrain-rmse:1.86052e+06+23464.4\ttest-rmse:2.62412e+06+126557\n",
      "\n",
      "   11 | 03m23s | \u001b[35m-2624124.15000\u001b[0m | \u001b[32m   1.9679\u001b[0m | \u001b[32m            0.8624\u001b[0m | \u001b[32m   7.8991\u001b[0m | \u001b[32m     5.7429\u001b[0m | \u001b[32m            2.7926\u001b[0m | \u001b[32m      4.9293\u001b[0m | \u001b[32m     0.6155\u001b[0m | \n",
      "\u001b[31mBayesian Optimization\u001b[0m\n",
      "\u001b[94m------------------------------------------------------------------------------------------------------------------------------------------\u001b[0m\n",
      " Step |   Time |      Value |     alpha |   colsample_bytree |     gamma |   max_depth |   min_child_weight |   reg_lambda |   subsample | \n",
      "Multiple eval metrics have been passed: 'test-rmse' will be used for early stopping.\n",
      "\n",
      "Will train until test-rmse hasn't improved in 10 rounds.\n",
      "Stopping. Best iteration:\n",
      "[184]\ttrain-rmse:1.1919e+06+53553\ttest-rmse:2.68814e+06+109660\n",
      "\n",
      "   12 | 04m42s | -2688142.70000 |    0.0000 |             0.1000 |   10.0000 |     15.0000 |             1.0000 |      10.0000 |      0.5000 | \n",
      "Multiple eval metrics have been passed: 'test-rmse' will be used for early stopping.\n",
      "\n",
      "Will train until test-rmse hasn't improved in 10 rounds.\n",
      "Stopping. Best iteration:\n",
      "[692]\ttrain-rmse:2.17029e+06+25171.6\ttest-rmse:2.6559e+06+121452\n",
      "\n",
      "   13 | 03m28s | -2655902.80000 |   10.0000 |             0.1000 |   10.0000 |      3.0000 |             1.0000 |      10.0000 |      0.5000 | \n",
      "Multiple eval metrics have been passed: 'test-rmse' will be used for early stopping.\n",
      "\n",
      "Will train until test-rmse hasn't improved in 10 rounds.\n",
      "Stopping. Best iteration:\n",
      "[206]\ttrain-rmse:1.72548e+06+44261.1\ttest-rmse:2.64847e+06+116785\n",
      "\n",
      "   14 | 04m39s | -2648474.35000 |    0.0000 |             0.1000 |   10.0000 |     15.0000 |            20.0000 |      10.0000 |      0.5000 | \n",
      "Multiple eval metrics have been passed: 'test-rmse' will be used for early stopping.\n",
      "\n",
      "Will train until test-rmse hasn't improved in 10 rounds.\n",
      "Stopping. Best iteration:\n",
      "[207]\ttrain-rmse:1.24791e+06+50733.7\ttest-rmse:2.6758e+06+129125\n",
      "\n",
      "   15 | 05m07s | -2675795.20000 |   10.0000 |             0.1000 |    0.0000 |     15.0000 |            20.0000 |       0.5000 |      1.0000 | \n",
      "Multiple eval metrics have been passed: 'test-rmse' will be used for early stopping.\n",
      "\n",
      "Will train until test-rmse hasn't improved in 10 rounds.\n",
      "Stopping. Best iteration:\n",
      "[682]\ttrain-rmse:2.2594e+06+33126\ttest-rmse:2.66782e+06+103940\n",
      "\n",
      "   16 | 03m14s | -2667816.75000 |    0.0000 |             1.0000 |    0.0000 |      3.0000 |            20.0000 |      10.0000 |      1.0000 | \n",
      "Multiple eval metrics have been passed: 'test-rmse' will be used for early stopping.\n",
      "\n",
      "Will train until test-rmse hasn't improved in 10 rounds.\n",
      "Stopping. Best iteration:\n",
      "[725]\ttrain-rmse:2.22096e+06+28258.4\ttest-rmse:2.67051e+06+127103\n",
      "\n",
      "   17 | 03m26s | -2670510.10000 |    0.0000 |             0.1000 |    0.0000 |      3.0000 |             1.0000 |      10.0000 |      1.0000 | \n",
      "Multiple eval metrics have been passed: 'test-rmse' will be used for early stopping.\n",
      "\n",
      "Will train until test-rmse hasn't improved in 10 rounds.\n",
      "Stopping. Best iteration:\n",
      "[682]\ttrain-rmse:2.2594e+06+33126\ttest-rmse:2.66782e+06+103940\n",
      "\n",
      "   18 | 03m24s | -2667816.75000 |   10.0000 |             1.0000 |   10.0000 |      3.0000 |            20.0000 |      10.0000 |      1.0000 | \n",
      "Multiple eval metrics have been passed: 'test-rmse' will be used for early stopping.\n",
      "\n",
      "Will train until test-rmse hasn't improved in 10 rounds.\n",
      "Stopping. Best iteration:\n",
      "[425]\ttrain-rmse:1.80515e+06+6486.95\ttest-rmse:2.64096e+06+98514.5\n",
      "\n",
      "   19 | 03m19s | -2640956.65000 |    0.0000 |             0.1000 |   10.0000 |      5.3668 |             1.0000 |       0.5000 |      1.0000 | \n",
      "Multiple eval metrics have been passed: 'test-rmse' will be used for early stopping.\n",
      "\n",
      "Will train until test-rmse hasn't improved in 10 rounds.\n",
      "Stopping. Best iteration:\n",
      "[115]\ttrain-rmse:873667+27101.3\ttest-rmse:2.69832e+06+126053\n",
      "\n",
      "   20 | 03m21s | -2698323.75000 |   10.0000 |             1.0000 |    0.0000 |     15.0000 |             1.0000 |       0.5000 |      0.5000 | \n",
      "Multiple eval metrics have been passed: 'test-rmse' will be used for early stopping.\n",
      "\n",
      "Will train until test-rmse hasn't improved in 10 rounds.\n",
      "Stopping. Best iteration:\n",
      "[278]\ttrain-rmse:1.54637e+06+60292.3\ttest-rmse:2.6549e+06+119712\n",
      "\n",
      "   21 | 04m25s | -2654902.00000 |    0.0000 |             0.1000 |   10.0000 |     10.1107 |            20.0000 |       3.2032 |      1.0000 | \n",
      "Multiple eval metrics have been passed: 'test-rmse' will be used for early stopping.\n",
      "\n",
      "Will train until test-rmse hasn't improved in 10 rounds.\n",
      "Stopping. Best iteration:\n",
      "[231]\ttrain-rmse:1.61114e+06+44487.4\ttest-rmse:2.63792e+06+105896\n",
      "\n",
      "   22 | 03m35s | -2637919.40000 |    2.6037 |             1.0000 |   10.0000 |      9.3650 |            14.8192 |       6.3673 |      0.9514 | \n",
      "Multiple eval metrics have been passed: 'test-rmse' will be used for early stopping.\n",
      "\n",
      "Will train until test-rmse hasn't improved in 10 rounds.\n",
      "Stopping. Best iteration:\n",
      "[206]\ttrain-rmse:1.72548e+06+44261.1\ttest-rmse:2.64847e+06+116785\n",
      "\n",
      "   23 | 04m48s | -2648474.35000 |    0.0000 |             1.0000 |    0.0000 |     15.0000 |            20.0000 |      10.0000 |      0.5000 | \n",
      "Multiple eval metrics have been passed: 'test-rmse' will be used for early stopping.\n",
      "\n",
      "Will train until test-rmse hasn't improved in 10 rounds.\n",
      "Stopping. Best iteration:\n",
      "[444]\ttrain-rmse:1.8919e+06+22068.9\ttest-rmse:2.63397e+06+122545\n",
      "\n",
      "   24 | 03m49s | -2633972.60000 |    2.1738 |             1.0000 |    6.0227 |      5.9299 |             4.4689 |       5.7535 |      0.5000 | \n",
      "Multiple eval metrics have been passed: 'test-rmse' will be used for early stopping.\n",
      "\n",
      "Will train until test-rmse hasn't improved in 10 rounds.\n",
      "Stopping. Best iteration:\n",
      "[534]\ttrain-rmse:1.81732e+06+22291.7\ttest-rmse:2.6445e+06+113652\n",
      "\n"
     ]
    },
    {
     "name": "stderr",
     "output_type": "stream",
     "text": [
      "/home/robert/anaconda3/lib/python3.5/site-packages/sklearn/gaussian_process/gpr.py:427: UserWarning: fmin_l_bfgs_b terminated abnormally with the  state: {'grad': array([-1558686.828125]), 'nit': 4, 'warnflag': 2, 'task': b'ABNORMAL_TERMINATION_IN_LNSRCH', 'funcalls': 49}\n",
      "  \" state: %s\" % convergence_dict)\n"
     ]
    },
    {
     "name": "stdout",
     "output_type": "stream",
     "text": [
      "   25 | 04m23s | -2644501.05000 |    2.1235 |             0.1000 |    7.2078 |      5.5023 |             1.7447 |       4.8661 |      1.0000 | \n",
      "Multiple eval metrics have been passed: 'test-rmse' will be used for early stopping.\n",
      "\n",
      "Will train until test-rmse hasn't improved in 10 rounds.\n",
      "Stopping. Best iteration:\n",
      "[307]\ttrain-rmse:1.82717e+06+22234.6\ttest-rmse:2.6299e+06+117139\n",
      "\n",
      "   26 | 03m11s | -2629897.40000 |    0.3641 |             1.0000 |   10.0000 |      6.5201 |             3.5827 |       4.2824 |      0.5000 | \n",
      "Multiple eval metrics have been passed: 'test-rmse' will be used for early stopping.\n",
      "\n",
      "Will train until test-rmse hasn't improved in 10 rounds.\n",
      "Stopping. Best iteration:\n",
      "[292]\ttrain-rmse:1.73015e+06+28643.6\ttest-rmse:2.62851e+06+128372\n",
      "\n",
      "   27 | 03m31s | -2628506.85000 |    1.9333 |             0.1000 |    3.5104 |      7.3242 |             4.5358 |       5.2069 |      0.5000 | \n",
      "Multiple eval metrics have been passed: 'test-rmse' will be used for early stopping.\n",
      "\n",
      "Will train until test-rmse hasn't improved in 10 rounds.\n",
      "Stopping. Best iteration:\n",
      "[540]\ttrain-rmse:2.05247e+06+32092.9\ttest-rmse:2.64501e+06+121474\n",
      "\n",
      "   28 | 03m42s | -2645013.45000 |    8.9154 |             0.2589 |    3.5056 |      4.5409 |            11.4722 |       2.6426 |      0.6343 | \u001b[31mWarning: Test point chose at random due to repeated sample.\u001b[0m\n",
      "\n",
      "Multiple eval metrics have been passed: 'test-rmse' will be used for early stopping.\n",
      "\n",
      "Will train until test-rmse hasn't improved in 10 rounds.\n",
      "Stopping. Best iteration:\n",
      "[504]\ttrain-rmse:2.30561e+06+31692\ttest-rmse:2.68367e+06+109387\n",
      "\n",
      "   29 | 02m40s | -2683669.65000 |   10.0000 |             0.1000 |    0.0000 |      3.0000 |             9.9410 |      10.0000 |      0.5000 | \n",
      "Multiple eval metrics have been passed: 'test-rmse' will be used for early stopping.\n",
      "\n",
      "Will train until test-rmse hasn't improved in 10 rounds.\n",
      "Stopping. Best iteration:\n",
      "[340]\ttrain-rmse:2.30247e+06+28188.9\ttest-rmse:2.70114e+06+121201\n",
      "\n",
      "   30 | 01m52s | -2701144.05000 |   10.0000 |             1.0000 |   10.0000 |      3.0000 |             1.0000 |       0.5000 |      0.5000 | \n",
      "Multiple eval metrics have been passed: 'test-rmse' will be used for early stopping.\n",
      "\n",
      "Will train until test-rmse hasn't improved in 10 rounds.\n",
      "Stopping. Best iteration:\n",
      "[338]\ttrain-rmse:2.44566e+06+33804.5\ttest-rmse:2.72125e+06+102440\n",
      "\n",
      "   31 | 01m52s | -2721252.00000 |   10.0000 |             0.1000 |    0.0000 |      3.0000 |            20.0000 |       0.5000 |      0.5000 | \n",
      "Multiple eval metrics have been passed: 'test-rmse' will be used for early stopping.\n",
      "\n",
      "Will train until test-rmse hasn't improved in 10 rounds.\n",
      "Stopping. Best iteration:\n",
      "[206]\ttrain-rmse:1.72548e+06+44261.1\ttest-rmse:2.64847e+06+116785\n",
      "\n",
      "   32 | 04m56s | -2648474.40000 |   10.0000 |             0.1000 |   10.0000 |     15.0000 |            20.0000 |      10.0000 |      0.5000 | \n",
      "Multiple eval metrics have been passed: 'test-rmse' will be used for early stopping.\n",
      "\n",
      "Will train until test-rmse hasn't improved in 10 rounds.\n",
      "Stopping. Best iteration:\n",
      "[296]\ttrain-rmse:2.01611e+06+28533.5\ttest-rmse:2.64035e+06+113078\n",
      "\n"
     ]
    },
    {
     "name": "stderr",
     "output_type": "stream",
     "text": [
      "/home/robert/anaconda3/lib/python3.5/site-packages/sklearn/gaussian_process/gpr.py:427: UserWarning: fmin_l_bfgs_b terminated abnormally with the  state: {'grad': array([-2138995.9375]), 'nit': 4, 'warnflag': 2, 'task': b'ABNORMAL_TERMINATION_IN_LNSRCH', 'funcalls': 47}\n",
      "  \" state: %s\" % convergence_dict)\n"
     ]
    },
    {
     "name": "stdout",
     "output_type": "stream",
     "text": [
      "   33 | 02m38s | -2640348.80000 |    1.4925 |             1.0000 |    8.2810 |      5.7613 |             3.1145 |       4.8195 |      0.5000 | \n",
      "Multiple eval metrics have been passed: 'test-rmse' will be used for early stopping.\n",
      "\n",
      "Will train until test-rmse hasn't improved in 10 rounds.\n",
      "Stopping. Best iteration:\n",
      "[138]\ttrain-rmse:285730+7834.37\ttest-rmse:2.76666e+06+79732.4\n",
      "\n",
      "   34 | 04m13s | -2766659.25000 |    0.0000 |             1.0000 |   10.0000 |     15.0000 |             1.0000 |       0.5000 |      1.0000 | \n",
      "Multiple eval metrics have been passed: 'test-rmse' will be used for early stopping.\n",
      "\n",
      "Will train until test-rmse hasn't improved in 10 rounds.\n",
      "Stopping. Best iteration:\n",
      "[394]\ttrain-rmse:1.71406e+06+26290.1\ttest-rmse:2.65348e+06+128310\n",
      "\n",
      "   35 | 03m52s | -2653480.60000 |    3.8973 |             1.0000 |    8.4066 |      6.7495 |             3.1822 |       5.5676 |      1.0000 | \n",
      "Multiple eval metrics have been passed: 'test-rmse' will be used for early stopping.\n",
      "\n",
      "Will train until test-rmse hasn't improved in 10 rounds.\n",
      "Stopping. Best iteration:\n",
      "[540]\ttrain-rmse:2.05247e+06+32092.9\ttest-rmse:2.64501e+06+121474\n",
      "\n",
      "   36 | 03m38s | -2645013.45000 |    8.9154 |             0.2589 |    3.5056 |      4.5409 |            11.4722 |       2.6426 |      0.6343 | \u001b[31mWarning: Test point chose at random due to repeated sample.\u001b[0m\n",
      "\n",
      "Multiple eval metrics have been passed: 'test-rmse' will be used for early stopping.\n",
      "\n",
      "Will train until test-rmse hasn't improved in 10 rounds.\n",
      "Stopping. Best iteration:\n",
      "[540]\ttrain-rmse:2.05247e+06+32092.9\ttest-rmse:2.64501e+06+121474\n",
      "\n",
      "   37 | 03m39s | -2645013.45000 |    8.9154 |             0.2589 |    3.5056 |      4.5409 |            11.4722 |       2.6426 |      0.6343 | \u001b[31mWarning: Test point chose at random due to repeated sample.\u001b[0m\n",
      "\n",
      "Multiple eval metrics have been passed: 'test-rmse' will be used for early stopping.\n",
      "\n",
      "Will train until test-rmse hasn't improved in 10 rounds.\n",
      "Stopping. Best iteration:\n",
      "[540]\ttrain-rmse:2.05247e+06+32092.9\ttest-rmse:2.64501e+06+121474\n",
      "\n",
      "   38 | 03m39s | -2645013.45000 |    8.9154 |             0.2589 |    3.5056 |      4.5409 |            11.4722 |       2.6426 |      0.6343 | \u001b[31mWarning: Test point chose at random due to repeated sample.\u001b[0m\n",
      "\n",
      "Multiple eval metrics have been passed: 'test-rmse' will be used for early stopping.\n",
      "\n",
      "Will train until test-rmse hasn't improved in 10 rounds.\n",
      "Stopping. Best iteration:\n",
      "[540]\ttrain-rmse:2.05247e+06+32092.9\ttest-rmse:2.64501e+06+121474\n",
      "\n",
      "   39 | 03m38s | -2645013.45000 |    8.9154 |             0.2589 |    3.5056 |      4.5409 |            11.4722 |       2.6426 |      0.6343 | \u001b[31mWarning: Test point chose at random due to repeated sample.\u001b[0m\n",
      "\n",
      "Multiple eval metrics have been passed: 'test-rmse' will be used for early stopping.\n",
      "\n",
      "Will train until test-rmse hasn't improved in 10 rounds.\n",
      "Stopping. Best iteration:\n",
      "[540]\ttrain-rmse:2.05247e+06+32092.9\ttest-rmse:2.64501e+06+121474\n",
      "\n",
      "   40 | 03m39s | -2645013.45000 |    8.9154 |             0.2589 |    3.5056 |      4.5409 |            11.4722 |       2.6426 |      0.6343 | \u001b[31mWarning: Test point chose at random due to repeated sample.\u001b[0m\n",
      "\n",
      "Multiple eval metrics have been passed: 'test-rmse' will be used for early stopping.\n",
      "\n",
      "Will train until test-rmse hasn't improved in 10 rounds.\n",
      "Stopping. Best iteration:\n",
      "[540]\ttrain-rmse:2.05247e+06+32092.9\ttest-rmse:2.64501e+06+121474\n",
      "\n",
      "   41 | 03m39s | -2645013.45000 |    8.9154 |             0.2589 |    3.5056 |      4.5409 |            11.4722 |       2.6426 |      0.6343 | \u001b[31mWarning: Test point chose at random due to repeated sample.\u001b[0m\n",
      "\n",
      "Multiple eval metrics have been passed: 'test-rmse' will be used for early stopping.\n",
      "\n",
      "Will train until test-rmse hasn't improved in 10 rounds.\n",
      "Stopping. Best iteration:\n",
      "[540]\ttrain-rmse:2.05247e+06+32092.9\ttest-rmse:2.64501e+06+121474\n",
      "\n",
      "   42 | 03m39s | -2645013.45000 |    8.9154 |             0.2589 |    3.5056 |      4.5409 |            11.4722 |       2.6426 |      0.6343 | \u001b[31mWarning: Test point chose at random due to repeated sample.\u001b[0m\n",
      "\n",
      "Multiple eval metrics have been passed: 'test-rmse' will be used for early stopping.\n",
      "\n",
      "Will train until test-rmse hasn't improved in 10 rounds.\n",
      "Stopping. Best iteration:\n",
      "[540]\ttrain-rmse:2.05247e+06+32092.9\ttest-rmse:2.64501e+06+121474\n",
      "\n",
      "   43 | 03m39s | -2645013.45000 |    8.9154 |             0.2589 |    3.5056 |      4.5409 |            11.4722 |       2.6426 |      0.6343 | \u001b[31mWarning: Test point chose at random due to repeated sample.\u001b[0m\n",
      "\n",
      "Multiple eval metrics have been passed: 'test-rmse' will be used for early stopping.\n",
      "\n",
      "Will train until test-rmse hasn't improved in 10 rounds.\n",
      "Stopping. Best iteration:\n",
      "[540]\ttrain-rmse:2.05247e+06+32092.9\ttest-rmse:2.64501e+06+121474\n",
      "\n",
      "   44 | 03m39s | -2645013.45000 |    8.9154 |             0.2589 |    3.5056 |      4.5409 |            11.4722 |       2.6426 |      0.6343 | \u001b[31mWarning: Test point chose at random due to repeated sample.\u001b[0m\n",
      "\n",
      "Multiple eval metrics have been passed: 'test-rmse' will be used for early stopping.\n",
      "\n",
      "Will train until test-rmse hasn't improved in 10 rounds.\n",
      "Stopping. Best iteration:\n",
      "[540]\ttrain-rmse:2.05247e+06+32092.9\ttest-rmse:2.64501e+06+121474\n",
      "\n",
      "   45 | 03m39s | -2645013.45000 |    8.9154 |             0.2589 |    3.5056 |      4.5409 |            11.4722 |       2.6426 |      0.6343 | \u001b[31mWarning: Test point chose at random due to repeated sample.\u001b[0m\n",
      "\n",
      "Multiple eval metrics have been passed: 'test-rmse' will be used for early stopping.\n",
      "\n",
      "Will train until test-rmse hasn't improved in 10 rounds.\n",
      "Stopping. Best iteration:\n",
      "[540]\ttrain-rmse:2.05247e+06+32092.9\ttest-rmse:2.64501e+06+121474\n",
      "\n",
      "   46 | 03m40s | -2645013.45000 |    8.9154 |             0.2589 |    3.5056 |      4.5409 |            11.4722 |       2.6426 |      0.6343 | \u001b[31mWarning: Test point chose at random due to repeated sample.\u001b[0m\n",
      "\n",
      "Multiple eval metrics have been passed: 'test-rmse' will be used for early stopping.\n",
      "\n",
      "Will train until test-rmse hasn't improved in 10 rounds.\n",
      "Stopping. Best iteration:\n",
      "[540]\ttrain-rmse:2.05247e+06+32092.9\ttest-rmse:2.64501e+06+121474\n",
      "\n",
      "   47 | 03m39s | -2645013.45000 |    8.9154 |             0.2589 |    3.5056 |      4.5409 |            11.4722 |       2.6426 |      0.6343 | \u001b[31mWarning: Test point chose at random due to repeated sample.\u001b[0m\n",
      "\n",
      "Multiple eval metrics have been passed: 'test-rmse' will be used for early stopping.\n",
      "\n",
      "Will train until test-rmse hasn't improved in 10 rounds.\n",
      "Stopping. Best iteration:\n",
      "[540]\ttrain-rmse:2.05247e+06+32092.9\ttest-rmse:2.64501e+06+121474\n",
      "\n",
      "   48 | 03m39s | -2645013.45000 |    8.9154 |             0.2589 |    3.5056 |      4.5409 |            11.4722 |       2.6426 |      0.6343 | \u001b[31mWarning: Test point chose at random due to repeated sample.\u001b[0m\n",
      "\n",
      "Multiple eval metrics have been passed: 'test-rmse' will be used for early stopping.\n",
      "\n",
      "Will train until test-rmse hasn't improved in 10 rounds.\n",
      "Stopping. Best iteration:\n",
      "[540]\ttrain-rmse:2.05247e+06+32092.9\ttest-rmse:2.64501e+06+121474\n",
      "\n",
      "   49 | 03m39s | -2645013.45000 |    8.9154 |             0.2589 |    3.5056 |      4.5409 |            11.4722 |       2.6426 |      0.6343 | \u001b[31mWarning: Test point chose at random due to repeated sample.\u001b[0m\n",
      "\n",
      "Multiple eval metrics have been passed: 'test-rmse' will be used for early stopping.\n",
      "\n",
      "Will train until test-rmse hasn't improved in 10 rounds.\n",
      "Stopping. Best iteration:\n",
      "[540]\ttrain-rmse:2.05247e+06+32092.9\ttest-rmse:2.64501e+06+121474\n",
      "\n",
      "   50 | 03m40s | -2645013.45000 |    8.9154 |             0.2589 |    3.5056 |      4.5409 |            11.4722 |       2.6426 |      0.6343 | \u001b[31mWarning: Test point chose at random due to repeated sample.\u001b[0m\n",
      "\n",
      "Multiple eval metrics have been passed: 'test-rmse' will be used for early stopping.\n",
      "\n",
      "Will train until test-rmse hasn't improved in 10 rounds.\n",
      "Stopping. Best iteration:\n",
      "[540]\ttrain-rmse:2.05247e+06+32092.9\ttest-rmse:2.64501e+06+121474\n",
      "\n",
      "   51 | 03m39s | -2645013.45000 |    8.9154 |             0.2589 |    3.5056 |      4.5409 |            11.4722 |       2.6426 |      0.6343 | \u001b[31mWarning: Test point chose at random due to repeated sample.\u001b[0m\n",
      "\n",
      "Multiple eval metrics have been passed: 'test-rmse' will be used for early stopping.\n",
      "\n",
      "Will train until test-rmse hasn't improved in 10 rounds.\n",
      "Stopping. Best iteration:\n",
      "[540]\ttrain-rmse:2.05247e+06+32092.9\ttest-rmse:2.64501e+06+121474\n",
      "\n",
      "   52 | 03m39s | -2645013.45000 |    8.9154 |             0.2589 |    3.5056 |      4.5409 |            11.4722 |       2.6426 |      0.6343 | \u001b[31mWarning: Test point chose at random due to repeated sample.\u001b[0m\n",
      "\n",
      "Multiple eval metrics have been passed: 'test-rmse' will be used for early stopping.\n",
      "\n",
      "Will train until test-rmse hasn't improved in 10 rounds.\n",
      "Stopping. Best iteration:\n",
      "[540]\ttrain-rmse:2.05247e+06+32092.9\ttest-rmse:2.64501e+06+121474\n",
      "\n",
      "   53 | 03m38s | -2645013.45000 |    8.9154 |             0.2589 |    3.5056 |      4.5409 |            11.4722 |       2.6426 |      0.6343 | \u001b[31mWarning: Test point chose at random due to repeated sample.\u001b[0m\n",
      "\n",
      "Multiple eval metrics have been passed: 'test-rmse' will be used for early stopping.\n",
      "\n",
      "Will train until test-rmse hasn't improved in 10 rounds.\n",
      "Stopping. Best iteration:\n",
      "[540]\ttrain-rmse:2.05247e+06+32092.9\ttest-rmse:2.64501e+06+121474\n",
      "\n",
      "   54 | 03m40s | -2645013.45000 |    8.9154 |             0.2589 |    3.5056 |      4.5409 |            11.4722 |       2.6426 |      0.6343 | \u001b[31mWarning: Test point chose at random due to repeated sample.\u001b[0m\n",
      "\n",
      "Multiple eval metrics have been passed: 'test-rmse' will be used for early stopping.\n",
      "\n",
      "Will train until test-rmse hasn't improved in 10 rounds.\n",
      "Stopping. Best iteration:\n",
      "[540]\ttrain-rmse:2.05247e+06+32092.9\ttest-rmse:2.64501e+06+121474\n",
      "\n",
      "   55 | 03m38s | -2645013.45000 |    8.9154 |             0.2589 |    3.5056 |      4.5409 |            11.4722 |       2.6426 |      0.6343 | \u001b[31mWarning: Test point chose at random due to repeated sample.\u001b[0m\n",
      "\n",
      "Multiple eval metrics have been passed: 'test-rmse' will be used for early stopping.\n",
      "\n",
      "Will train until test-rmse hasn't improved in 10 rounds.\n",
      "Stopping. Best iteration:\n",
      "[540]\ttrain-rmse:2.05247e+06+32092.9\ttest-rmse:2.64501e+06+121474\n",
      "\n",
      "   56 | 03m40s | -2645013.45000 |    8.9154 |             0.2589 |    3.5056 |      4.5409 |            11.4722 |       2.6426 |      0.6343 | \u001b[31mWarning: Test point chose at random due to repeated sample.\u001b[0m\n",
      "\n",
      "Multiple eval metrics have been passed: 'test-rmse' will be used for early stopping.\n",
      "\n",
      "Will train until test-rmse hasn't improved in 10 rounds.\n",
      "Stopping. Best iteration:\n",
      "[540]\ttrain-rmse:2.05247e+06+32092.9\ttest-rmse:2.64501e+06+121474\n",
      "\n",
      "   57 | 03m39s | -2645013.45000 |    8.9154 |             0.2589 |    3.5056 |      4.5409 |            11.4722 |       2.6426 |      0.6343 | \u001b[31mWarning: Test point chose at random due to repeated sample.\u001b[0m\n",
      "\n",
      "Multiple eval metrics have been passed: 'test-rmse' will be used for early stopping.\n",
      "\n",
      "Will train until test-rmse hasn't improved in 10 rounds.\n",
      "Stopping. Best iteration:\n",
      "[540]\ttrain-rmse:2.05247e+06+32092.9\ttest-rmse:2.64501e+06+121474\n",
      "\n",
      "   58 | 03m38s | -2645013.45000 |    8.9154 |             0.2589 |    3.5056 |      4.5409 |            11.4722 |       2.6426 |      0.6343 | \u001b[31mWarning: Test point chose at random due to repeated sample.\u001b[0m\n",
      "\n",
      "Multiple eval metrics have been passed: 'test-rmse' will be used for early stopping.\n",
      "\n",
      "Will train until test-rmse hasn't improved in 10 rounds.\n",
      "Stopping. Best iteration:\n",
      "[540]\ttrain-rmse:2.05247e+06+32092.9\ttest-rmse:2.64501e+06+121474\n",
      "\n",
      "   59 | 03m39s | -2645013.45000 |    8.9154 |             0.2589 |    3.5056 |      4.5409 |            11.4722 |       2.6426 |      0.6343 | \u001b[31mWarning: Test point chose at random due to repeated sample.\u001b[0m\n",
      "\n",
      "Multiple eval metrics have been passed: 'test-rmse' will be used for early stopping.\n",
      "\n",
      "Will train until test-rmse hasn't improved in 10 rounds.\n",
      "Stopping. Best iteration:\n",
      "[540]\ttrain-rmse:2.05247e+06+32092.9\ttest-rmse:2.64501e+06+121474\n",
      "\n",
      "   60 | 03m39s | -2645013.45000 |    8.9154 |             0.2589 |    3.5056 |      4.5409 |            11.4722 |       2.6426 |      0.6343 | \u001b[31mWarning: Test point chose at random due to repeated sample.\u001b[0m\n",
      "\n",
      "Multiple eval metrics have been passed: 'test-rmse' will be used for early stopping.\n",
      "\n",
      "Will train until test-rmse hasn't improved in 10 rounds.\n",
      "Stopping. Best iteration:\n",
      "[540]\ttrain-rmse:2.05247e+06+32092.9\ttest-rmse:2.64501e+06+121474\n",
      "\n",
      "   61 | 03m38s | -2645013.45000 |    8.9154 |             0.2589 |    3.5056 |      4.5409 |            11.4722 |       2.6426 |      0.6343 | \u001b[31mWarning: Test point chose at random due to repeated sample.\u001b[0m\n",
      "\n"
     ]
    }
   ],
   "source": [
    "xgbBO.explore({'max_depth':[5],'subsample': [0.7],'colsample_bytree':[0.7],'gamma':[0],'alpha':[0],'reg_lambda':[1],'min_child_weight':[1] }) \n",
    "xgbBO.maximize(init_points=init_points, n_iter=num_iter,kappa=4)"
   ]
  },
  {
   "cell_type": "code",
   "execution_count": 17,
   "metadata": {
    "collapsed": false
   },
   "outputs": [
    {
     "data": {
      "text/plain": [
       "{'max_params': {'alpha': 1.9678523310361673,\n",
       "  'colsample_bytree': 0.86244069127570411,\n",
       "  'gamma': 7.8990994340520926,\n",
       "  'max_depth': 5.742876719629507,\n",
       "  'min_child_weight': 2.7926454538823444,\n",
       "  'reg_lambda': 4.9292683890361317,\n",
       "  'subsample': 0.61554597137499256},\n",
       " 'max_val': -2624124.1499999999}"
      ]
     },
     "execution_count": 17,
     "metadata": {},
     "output_type": "execute_result"
    }
   ],
   "source": [
    "xgbBO.res['max']"
   ]
  },
  {
   "cell_type": "code",
   "execution_count": 4,
   "metadata": {
    "collapsed": true
   },
   "outputs": [],
   "source": [
    "\n",
    "\n",
    "xgb_params = {\n",
    "    'eta': 0.05,\n",
    "    'max_depth': 5,\n",
    "    'subsample': 0.7,\n",
    "    'colsample_bytree': 0.7,\n",
    "    'objective': 'reg:linear',\n",
    "    'eval_metric': 'rmse',\n",
    "    'silent': 1\n",
    "}\n",
    "\n",
    "dtrain = xgb.DMatrix(x_train, y_train)\n",
    "dtest = xgb.DMatrix(x_test)\n",
    "\n"
   ]
  },
  {
   "cell_type": "code",
   "execution_count": 5,
   "metadata": {
    "collapsed": false
   },
   "outputs": [
    {
     "name": "stdout",
     "output_type": "stream",
     "text": [
      "[0]\ttrain-rmse:8.20593e+06\ttest-rmse:8.20865e+06\n",
      "[50]\ttrain-rmse:2.52775e+06\ttest-rmse:2.89073e+06\n",
      "[100]\ttrain-rmse:2.19272e+06\ttest-rmse:2.70565e+06\n",
      "[150]\ttrain-rmse:2.07303e+06\ttest-rmse:2.6703e+06\n",
      "[200]\ttrain-rmse:1.98557e+06\ttest-rmse:2.64838e+06\n",
      "[250]\ttrain-rmse:1.91812e+06\ttest-rmse:2.63979e+06\n",
      "[300]\ttrain-rmse:1.85714e+06\ttest-rmse:2.63207e+06\n",
      "[350]\ttrain-rmse:1.8054e+06\ttest-rmse:2.62911e+06\n",
      "[400]\ttrain-rmse:1.75614e+06\ttest-rmse:2.62691e+06\n"
     ]
    },
    {
     "data": {
      "text/plain": [
       "<matplotlib.axes._subplots.AxesSubplot at 0x7fea38421c88>"
      ]
     },
     "execution_count": 5,
     "metadata": {},
     "output_type": "execute_result"
    },
    {
     "data": {
      "image/png": "[encoded data removed]",
      "text/plain": [
       "<matplotlib.figure.Figure at 0x7fea38432438>"
      ]
     },
     "metadata": {},
     "output_type": "display_data"
    }
   ],
   "source": [
    "\n",
    "\n",
    "cv_output = xgb.cv(xgb_params, dtrain, num_boost_round=1000, early_stopping_rounds=20,\n",
    "    verbose_eval=50, show_stdv=False)\n",
    "cv_output[['train-rmse-mean', 'test-rmse-mean']].plot()\n",
    "\n"
   ]
  },
  {
   "cell_type": "code",
   "execution_count": 6,
   "metadata": {
    "collapsed": true
   },
   "outputs": [],
   "source": [
    "\n",
    "\n",
    "num_boost_rounds = len(cv_output)\n",
    "model = xgb.train(dict(xgb_params, silent=0), dtrain, num_boost_round= num_boost_rounds)\n",
    "\n"
   ]
  },
  {
   "cell_type": "code",
   "execution_count": 9,
   "metadata": {
    "collapsed": false
   },
   "outputs": [
    {
     "data": {
      "text/plain": [
       "<matplotlib.axes._subplots.AxesSubplot at 0x7fea37031198>"
      ]
     },
     "execution_count": 9,
     "metadata": {},
     "output_type": "execute_result"
    },
    {
     "data": {
      "image/png": "[encoded data removed]",
      "text/plain": [
       "<matplotlib.figure.Figure at 0x7fea36fcc240>"
      ]
     },
     "metadata": {},
     "output_type": "display_data"
    }
   ],
   "source": [
    "fig, ax = plt.subplots(1, 1, figsize=(8, 13))\n",
    "xgb.plot_importance(model, height=0.5, ax=ax)\n",
    "xgb.plot_importance(model,n)"
   ]
  },
  {
   "cell_type": "code",
   "execution_count": 8,
   "metadata": {
    "collapsed": false
   },
   "outputs": [
    {
     "data": {
      "text/html": [
       "<div>\n",
       "<table border=\"1\" class=\"dataframe\">\n",
       "  <thead>\n",
       "    <tr style=\"text-align: right;\">\n",
       "      <th></th>\n",
       "      <th>id</th>\n",
       "      <th>price_doc</th>\n",
       "    </tr>\n",
       "  </thead>\n",
       "  <tbody>\n",
       "    <tr>\n",
       "      <th>0</th>\n",
       "      <td>30474</td>\n",
       "      <td>5448555.5</td>\n",
       "    </tr>\n",
       "    <tr>\n",
       "      <th>1</th>\n",
       "      <td>30475</td>\n",
       "      <td>8517570.0</td>\n",
       "    </tr>\n",
       "    <tr>\n",
       "      <th>2</th>\n",
       "      <td>30476</td>\n",
       "      <td>5389902.5</td>\n",
       "    </tr>\n",
       "    <tr>\n",
       "      <th>3</th>\n",
       "      <td>30477</td>\n",
       "      <td>5937156.0</td>\n",
       "    </tr>\n",
       "    <tr>\n",
       "      <th>4</th>\n",
       "      <td>30478</td>\n",
       "      <td>5151572.0</td>\n",
       "    </tr>\n",
       "  </tbody>\n",
       "</table>\n",
       "</div>"
      ],
      "text/plain": [
       "      id  price_doc\n",
       "0  30474  5448555.5\n",
       "1  30475  8517570.0\n",
       "2  30476  5389902.5\n",
       "3  30477  5937156.0\n",
       "4  30478  5151572.0"
      ]
     },
     "execution_count": 8,
     "metadata": {},
     "output_type": "execute_result"
    }
   ],
   "source": [
    "\n",
    "\n",
    "y_predict = model.predict(dtest)\n",
    "output = pd.DataFrame({'id': id_test, 'price_doc': y_predict})\n",
    "output.head()\n",
    "\n"
   ]
  },
  {
   "cell_type": "code",
   "execution_count": 117,
   "metadata": {
    "collapsed": false
   },
   "outputs": [],
   "source": [
    "xgb_params = {\n",
    "    'eta': 0.05,\n",
    "    'max_depth': 5,\n",
    "    'subsample': 0.7,\n",
    "    'colsample_bytree': 0.7,\n",
    "    'objective': 'reg:linear',\n",
    "    'eval_metric': 'rmse',\n",
    "    'silent': 1\n",
    "}\n",
    "from sklearn.cross_validation import cross_val_predict as cvp\n",
    "xgb_model = xgb.XGBRegressor(max_depth=5, learning_rate=0.05, n_estimators=500, silent=True, objective='reg:linear', nthread=-1, subsample=1, colsample_bytree=0.7, colsample_bylevel=0.7)\n"
   ]
  },
  {
   "cell_type": "code",
   "execution_count": 125,
   "metadata": {
    "collapsed": false
   },
   "outputs": [
    {
     "name": "stderr",
     "output_type": "stream",
     "text": [
      "[Parallel(n_jobs=1)]: Done   1 out of   1 | elapsed:   23.6s remaining:    0.0s\n",
      "[Parallel(n_jobs=1)]: Done   2 out of   2 | elapsed:   47.5s remaining:    0.0s\n",
      "[Parallel(n_jobs=1)]: Done   3 out of   3 | elapsed:  1.2min remaining:    0.0s\n",
      "[Parallel(n_jobs=1)]: Done   4 out of   4 | elapsed:  1.6min remaining:    0.0s\n",
      "[Parallel(n_jobs=1)]: Done   5 out of   5 | elapsed:  2.0min remaining:    0.0s\n",
      "[Parallel(n_jobs=1)]: Done   5 out of   5 | elapsed:  2.0min finished\n"
     ]
    }
   ],
   "source": [
    "y_pred = cvp(xgb_model, x_train,y_train, cv=5, n_jobs = 1,verbose=10,fit_params={'eval_metric':'rmse'})"
   ]
  },
  {
   "cell_type": "code",
   "execution_count": null,
   "metadata": {
    "collapsed": true
   },
   "outputs": [],
   "source": [
    "def oof_prediction():\n",
    "    \"\"\"\n",
    "    Dirty global variable callback hack.\n",
    "    \"\"\"\n",
    "\n",
    "    global cv_prediction_dict\n",
    "\n",
    "    def callback(env):\n",
    "        \"\"\"internal function\"\"\"        \n",
    "        cv_prediction_list = []\n",
    "\n",
    "        for i in [0, 1, 2, 3, 4]:\n",
    "            cv_prediction_list.append([env.cvfolds[i].bst.predict(env.cvfolds[i].dtest)])\n",
    "\n",
    "        cv_prediction_dict['cv'] = cv_prediction_list\n",
    "\n",
    "    return callback"
   ]
  },
  {
   "cell_type": "code",
   "execution_count": 14,
   "metadata": {
    "collapsed": false
   },
   "outputs": [],
   "source": [
    "cv_prediction_dict = {}\n",
    "xgb.cv(xgb_params, dtrain, num_boost_round=1000, early_stopping_rounds=20, callbacks=[oof_prediction()], nfold=5)\n",
    "pos_oof_predictions = cv_prediction_dict.copy()"
   ]
  },
  {
   "cell_type": "code",
   "execution_count": 128,
   "metadata": {
    "collapsed": false
   },
   "outputs": [
    {
     "data": {
      "text/plain": [
       "0         5850000\n",
       "1         6000000\n",
       "2         5700000\n",
       "3        13100000\n",
       "4        16331452\n",
       "5         9100000\n",
       "6         5500000\n",
       "7         2000000\n",
       "8         5300000\n",
       "9         2000000\n",
       "10        4650000\n",
       "11        4800000\n",
       "12        5100000\n",
       "13        5200000\n",
       "14        5000000\n",
       "15        1850000\n",
       "16        6300000\n",
       "17        5900000\n",
       "18        7900000\n",
       "19        5200000\n",
       "20        8200000\n",
       "21        5200000\n",
       "22        6250000\n",
       "23        5750000\n",
       "24        6000000\n",
       "25        1050000\n",
       "26        5000000\n",
       "27        4700000\n",
       "28        8254400\n",
       "29        5900000\n",
       "           ...   \n",
       "30441    25039300\n",
       "30442     4350000\n",
       "30443     7567425\n",
       "30444    11438948\n",
       "30445    10139368\n",
       "30446     6125400\n",
       "30447     6373324\n",
       "30448     6888144\n",
       "30449     9227657\n",
       "30450    12610000\n",
       "30451     2394300\n",
       "30452     6800000\n",
       "30453     4066740\n",
       "30454     6300000\n",
       "30455     9014972\n",
       "30456     1000000\n",
       "30457     7800000\n",
       "30458     6370777\n",
       "30459     5778893\n",
       "30460     9500000\n",
       "30461     5000000\n",
       "30462    10544070\n",
       "30463    12000000\n",
       "30464    10262010\n",
       "30465     6750554\n",
       "30466     7400000\n",
       "30467    25000000\n",
       "30468     6970959\n",
       "30469    13500000\n",
       "30470     5600000\n",
       "Name: price_doc, dtype: int64"
      ]
     },
     "execution_count": 128,
     "metadata": {},
     "output_type": "execute_result"
    }
   ],
   "source": [
    "y_train"
   ]
  },
  {
   "cell_type": "code",
   "execution_count": 20,
   "metadata": {
    "collapsed": false
   },
   "outputs": [
    {
     "data": {
      "text/plain": [
       "[array([ 3962392.5,  5574435. ,  4348051.5, ...,  5906032. ,  6866006. ,\n",
       "         4491176. ], dtype=float32)]"
      ]
     },
     "execution_count": 20,
     "metadata": {},
     "output_type": "execute_result"
    }
   ],
   "source": [
    "pos_oof_predictions['cv'][0]"
   ]
  },
  {
   "cell_type": "code",
   "execution_count": 21,
   "metadata": {
    "collapsed": false
   },
   "outputs": [
    {
     "name": "stdout",
     "output_type": "stream",
     "text": [
      "[array([ 3962392.5,  5574435. ,  4348051.5, ...,  5906032. ,  6866006. ,\n",
      "        4491176. ], dtype=float32)]\n",
      "[array([  7305522.  ,  12265608.  ,   6343265.5 , ...,   6685382.5 ,\n",
      "        13224118.  ,   3683451.25], dtype=float32)]\n",
      "[array([ 10214938. ,   4730149.5,  17234604. , ...,   5578749.5,\n",
      "         5460969. ,   6078873.5], dtype=float32)]\n",
      "[array([ 4313158.5,  5719757.5,  6617862.5, ...,  8093858.5,  4032708. ,\n",
      "        4627651. ], dtype=float32)]\n",
      "[array([  4958002.5,  13336840. ,   4737271. , ...,   6357212.5,\n",
      "         7262517. ,   6401984. ], dtype=float32)]\n"
     ]
    }
   ],
   "source": [
    "for i in pos_oof_predictions['cv']:\n",
    "    print(i)"
   ]
  },
  {
   "cell_type": "code",
   "execution_count": 32,
   "metadata": {
    "collapsed": false
   },
   "outputs": [],
   "source": [
    "a=pos_oof_predictions['cv'][0]\n",
    "for i in range(1,5):\n",
    "    a=np.append(a,pos_oof_predictions['cv'][i])"
   ]
  },
  {
   "cell_type": "code",
   "execution_count": 33,
   "metadata": {
    "collapsed": false
   },
   "outputs": [
    {
     "data": {
      "text/plain": [
       "array([ 3962392.5,  5574435. ,  4348051.5, ...,  6357212.5,  7262517. ,\n",
       "        6401984. ], dtype=float32)"
      ]
     },
     "execution_count": 33,
     "metadata": {},
     "output_type": "execute_result"
    }
   ],
   "source": [
    "a"
   ]
  },
  {
   "cell_type": "code",
   "execution_count": 36,
   "metadata": {
    "collapsed": false
   },
   "outputs": [
    {
     "name": "stderr",
     "output_type": "stream",
     "text": [
      "/home/robert/anaconda3/lib/python3.5/site-packages/ipykernel/__main__.py:1: SettingWithCopyWarning: \n",
      "A value is trying to be set on a copy of a slice from a DataFrame\n",
      "\n",
      "See the caveats in the documentation: http://pandas.pydata.org/pandas-docs/stable/indexing.html#indexing-view-versus-copy\n",
      "  if __name__ == '__main__':\n"
     ]
    }
   ],
   "source": [
    "y_train['a']=a"
   ]
  },
  {
   "cell_type": "code",
   "execution_count": 43,
   "metadata": {
    "collapsed": false
   },
   "outputs": [
    {
     "data": {
      "text/plain": [
       "(30472,)"
      ]
     },
     "execution_count": 43,
     "metadata": {},
     "output_type": "execute_result"
    }
   ],
   "source": [
    "y_train.shape"
   ]
  },
  {
   "cell_type": "code",
   "execution_count": 130,
   "metadata": {
    "collapsed": false
   },
   "outputs": [],
   "source": [
    "error=pd.DataFrame({'target':y_train,'pred':y_pred})"
   ]
  },
  {
   "cell_type": "code",
   "execution_count": 64,
   "metadata": {
    "collapsed": false
   },
   "outputs": [
    {
     "name": "stdout",
     "output_type": "stream",
     "text": [
      "(6094,)\n",
      "(6094,)\n",
      "(6094,)\n",
      "(6094,)\n",
      "(6094,)\n"
     ]
    }
   ],
   "source": [
    "for i in range(5):\n",
    "    print(pos_oof_predictions['cv'][i][0].shape)"
   ]
  },
  {
   "cell_type": "code",
   "execution_count": 65,
   "metadata": {
    "collapsed": false
   },
   "outputs": [
    {
     "name": "stdout",
     "output_type": "stream",
     "text": [
      "30470\n"
     ]
    }
   ],
   "source": [
    "print(6094*5)"
   ]
  },
  {
   "cell_type": "code",
   "execution_count": 66,
   "metadata": {
    "collapsed": false
   },
   "outputs": [
    {
     "name": "stdout",
     "output_type": "stream",
     "text": [
      "15236.0\n"
     ]
    }
   ],
   "source": [
    "print(30472/2)"
   ]
  },
  {
   "cell_type": "code",
   "execution_count": 72,
   "metadata": {
    "collapsed": false
   },
   "outputs": [
    {
     "name": "stdout",
     "output_type": "stream",
     "text": [
      "3809.0\n"
     ]
    }
   ],
   "source": [
    "print(30472/8)"
   ]
  },
  {
   "cell_type": "code",
   "execution_count": 77,
   "metadata": {
    "collapsed": false
   },
   "outputs": [
    {
     "data": {
      "text/plain": [
       "(30471, 289)"
      ]
     },
     "execution_count": 77,
     "metadata": {},
     "output_type": "execute_result"
    }
   ],
   "source": [
    "x_train.shape"
   ]
  },
  {
   "cell_type": "code",
   "execution_count": 78,
   "metadata": {
    "collapsed": false
   },
   "outputs": [
    {
     "data": {
      "text/plain": [
       "(30472,)"
      ]
     },
     "execution_count": 78,
     "metadata": {},
     "output_type": "execute_result"
    }
   ],
   "source": [
    "y_train.shape"
   ]
  },
  {
   "cell_type": "code",
   "execution_count": 151,
   "metadata": {
    "collapsed": false
   },
   "outputs": [],
   "source": [
    "error['rmse']=abs(error.pred-error.target)"
   ]
  },
  {
   "cell_type": "code",
   "execution_count": 140,
   "metadata": {
    "collapsed": false
   },
   "outputs": [
    {
     "data": {
      "text/plain": [
       "0.24490577645926373"
      ]
     },
     "execution_count": 140,
     "metadata": {},
     "output_type": "execute_result"
    }
   ],
   "source": [
    "error.error.sum()/error.shape[0]"
   ]
  },
  {
   "cell_type": "code",
   "execution_count": 152,
   "metadata": {
    "collapsed": false
   },
   "outputs": [
    {
     "data": {
      "text/html": [
       "<div>\n",
       "<table border=\"1\" class=\"dataframe\">\n",
       "  <thead>\n",
       "    <tr style=\"text-align: right;\">\n",
       "      <th></th>\n",
       "      <th>pred</th>\n",
       "      <th>target</th>\n",
       "      <th>error</th>\n",
       "      <th>rmse</th>\n",
       "    </tr>\n",
       "  </thead>\n",
       "  <tbody>\n",
       "    <tr>\n",
       "      <th>0</th>\n",
       "      <td>5740000.00</td>\n",
       "      <td>5850000</td>\n",
       "      <td>0.018982</td>\n",
       "      <td>110000.00</td>\n",
       "    </tr>\n",
       "    <tr>\n",
       "      <th>1</th>\n",
       "      <td>5804442.00</td>\n",
       "      <td>6000000</td>\n",
       "      <td>0.033136</td>\n",
       "      <td>195558.00</td>\n",
       "    </tr>\n",
       "    <tr>\n",
       "      <th>2</th>\n",
       "      <td>5846794.50</td>\n",
       "      <td>5700000</td>\n",
       "      <td>0.025428</td>\n",
       "      <td>146794.50</td>\n",
       "    </tr>\n",
       "    <tr>\n",
       "      <th>3</th>\n",
       "      <td>11396764.00</td>\n",
       "      <td>13100000</td>\n",
       "      <td>0.139283</td>\n",
       "      <td>1703236.00</td>\n",
       "    </tr>\n",
       "    <tr>\n",
       "      <th>4</th>\n",
       "      <td>14521574.00</td>\n",
       "      <td>16331452</td>\n",
       "      <td>0.117457</td>\n",
       "      <td>1809878.00</td>\n",
       "    </tr>\n",
       "    <tr>\n",
       "      <th>5</th>\n",
       "      <td>8177487.50</td>\n",
       "      <td>9100000</td>\n",
       "      <td>0.106889</td>\n",
       "      <td>922512.50</td>\n",
       "    </tr>\n",
       "    <tr>\n",
       "      <th>6</th>\n",
       "      <td>5842015.50</td>\n",
       "      <td>5500000</td>\n",
       "      <td>0.060328</td>\n",
       "      <td>342015.50</td>\n",
       "    </tr>\n",
       "    <tr>\n",
       "      <th>7</th>\n",
       "      <td>6032477.00</td>\n",
       "      <td>2000000</td>\n",
       "      <td>1.104010</td>\n",
       "      <td>4032477.00</td>\n",
       "    </tr>\n",
       "    <tr>\n",
       "      <th>8</th>\n",
       "      <td>6527532.00</td>\n",
       "      <td>5300000</td>\n",
       "      <td>0.208322</td>\n",
       "      <td>1227532.00</td>\n",
       "    </tr>\n",
       "    <tr>\n",
       "      <th>9</th>\n",
       "      <td>5969677.50</td>\n",
       "      <td>2000000</td>\n",
       "      <td>1.093545</td>\n",
       "      <td>3969677.50</td>\n",
       "    </tr>\n",
       "    <tr>\n",
       "      <th>10</th>\n",
       "      <td>4813665.00</td>\n",
       "      <td>4650000</td>\n",
       "      <td>0.034592</td>\n",
       "      <td>163665.00</td>\n",
       "    </tr>\n",
       "    <tr>\n",
       "      <th>11</th>\n",
       "      <td>4393692.50</td>\n",
       "      <td>4800000</td>\n",
       "      <td>0.088446</td>\n",
       "      <td>406307.50</td>\n",
       "    </tr>\n",
       "    <tr>\n",
       "      <th>12</th>\n",
       "      <td>6164418.00</td>\n",
       "      <td>5100000</td>\n",
       "      <td>0.189553</td>\n",
       "      <td>1064418.00</td>\n",
       "    </tr>\n",
       "    <tr>\n",
       "      <th>13</th>\n",
       "      <td>4746268.50</td>\n",
       "      <td>5200000</td>\n",
       "      <td>0.091300</td>\n",
       "      <td>453731.50</td>\n",
       "    </tr>\n",
       "    <tr>\n",
       "      <th>14</th>\n",
       "      <td>5741227.00</td>\n",
       "      <td>5000000</td>\n",
       "      <td>0.138235</td>\n",
       "      <td>741227.00</td>\n",
       "    </tr>\n",
       "    <tr>\n",
       "      <th>15</th>\n",
       "      <td>6907684.50</td>\n",
       "      <td>1850000</td>\n",
       "      <td>1.317448</td>\n",
       "      <td>5057684.50</td>\n",
       "    </tr>\n",
       "    <tr>\n",
       "      <th>16</th>\n",
       "      <td>5708160.00</td>\n",
       "      <td>6300000</td>\n",
       "      <td>0.098653</td>\n",
       "      <td>591840.00</td>\n",
       "    </tr>\n",
       "    <tr>\n",
       "      <th>17</th>\n",
       "      <td>5792046.50</td>\n",
       "      <td>5900000</td>\n",
       "      <td>0.018466</td>\n",
       "      <td>107953.50</td>\n",
       "    </tr>\n",
       "    <tr>\n",
       "      <th>18</th>\n",
       "      <td>5935339.00</td>\n",
       "      <td>7900000</td>\n",
       "      <td>0.285939</td>\n",
       "      <td>1964661.00</td>\n",
       "    </tr>\n",
       "    <tr>\n",
       "      <th>19</th>\n",
       "      <td>5391606.00</td>\n",
       "      <td>5200000</td>\n",
       "      <td>0.036184</td>\n",
       "      <td>191606.00</td>\n",
       "    </tr>\n",
       "    <tr>\n",
       "      <th>20</th>\n",
       "      <td>6253148.50</td>\n",
       "      <td>8200000</td>\n",
       "      <td>0.271049</td>\n",
       "      <td>1946851.50</td>\n",
       "    </tr>\n",
       "    <tr>\n",
       "      <th>21</th>\n",
       "      <td>5572098.00</td>\n",
       "      <td>5200000</td>\n",
       "      <td>0.069113</td>\n",
       "      <td>372098.00</td>\n",
       "    </tr>\n",
       "    <tr>\n",
       "      <th>22</th>\n",
       "      <td>7477851.00</td>\n",
       "      <td>6250000</td>\n",
       "      <td>0.179364</td>\n",
       "      <td>1227851.00</td>\n",
       "    </tr>\n",
       "    <tr>\n",
       "      <th>23</th>\n",
       "      <td>4806448.00</td>\n",
       "      <td>5750000</td>\n",
       "      <td>0.179241</td>\n",
       "      <td>943552.00</td>\n",
       "    </tr>\n",
       "    <tr>\n",
       "      <th>24</th>\n",
       "      <td>5424978.50</td>\n",
       "      <td>6000000</td>\n",
       "      <td>0.100745</td>\n",
       "      <td>575021.50</td>\n",
       "    </tr>\n",
       "    <tr>\n",
       "      <th>25</th>\n",
       "      <td>7356777.00</td>\n",
       "      <td>1050000</td>\n",
       "      <td>1.946831</td>\n",
       "      <td>6306777.00</td>\n",
       "    </tr>\n",
       "    <tr>\n",
       "      <th>26</th>\n",
       "      <td>5617809.50</td>\n",
       "      <td>5000000</td>\n",
       "      <td>0.116504</td>\n",
       "      <td>617809.50</td>\n",
       "    </tr>\n",
       "    <tr>\n",
       "      <th>27</th>\n",
       "      <td>5110666.50</td>\n",
       "      <td>4700000</td>\n",
       "      <td>0.083767</td>\n",
       "      <td>410666.50</td>\n",
       "    </tr>\n",
       "    <tr>\n",
       "      <th>28</th>\n",
       "      <td>9674830.00</td>\n",
       "      <td>8254400</td>\n",
       "      <td>0.158782</td>\n",
       "      <td>1420430.00</td>\n",
       "    </tr>\n",
       "    <tr>\n",
       "      <th>29</th>\n",
       "      <td>5364466.50</td>\n",
       "      <td>5900000</td>\n",
       "      <td>0.095155</td>\n",
       "      <td>535533.50</td>\n",
       "    </tr>\n",
       "    <tr>\n",
       "      <th>...</th>\n",
       "      <td>...</td>\n",
       "      <td>...</td>\n",
       "      <td>...</td>\n",
       "      <td>...</td>\n",
       "    </tr>\n",
       "    <tr>\n",
       "      <th>30441</th>\n",
       "      <td>14879354.00</td>\n",
       "      <td>25039300</td>\n",
       "      <td>0.520471</td>\n",
       "      <td>10159946.00</td>\n",
       "    </tr>\n",
       "    <tr>\n",
       "      <th>30442</th>\n",
       "      <td>4229646.00</td>\n",
       "      <td>4350000</td>\n",
       "      <td>0.028057</td>\n",
       "      <td>120354.00</td>\n",
       "    </tr>\n",
       "    <tr>\n",
       "      <th>30443</th>\n",
       "      <td>7427658.00</td>\n",
       "      <td>7567425</td>\n",
       "      <td>0.018642</td>\n",
       "      <td>139767.00</td>\n",
       "    </tr>\n",
       "    <tr>\n",
       "      <th>30444</th>\n",
       "      <td>11878892.00</td>\n",
       "      <td>11438948</td>\n",
       "      <td>0.037739</td>\n",
       "      <td>439944.00</td>\n",
       "    </tr>\n",
       "    <tr>\n",
       "      <th>30445</th>\n",
       "      <td>8056114.50</td>\n",
       "      <td>10139368</td>\n",
       "      <td>0.229994</td>\n",
       "      <td>2083253.50</td>\n",
       "    </tr>\n",
       "    <tr>\n",
       "      <th>30446</th>\n",
       "      <td>7137226.00</td>\n",
       "      <td>6125400</td>\n",
       "      <td>0.152880</td>\n",
       "      <td>1011826.00</td>\n",
       "    </tr>\n",
       "    <tr>\n",
       "      <th>30447</th>\n",
       "      <td>6170254.00</td>\n",
       "      <td>6373324</td>\n",
       "      <td>0.032381</td>\n",
       "      <td>203070.00</td>\n",
       "    </tr>\n",
       "    <tr>\n",
       "      <th>30448</th>\n",
       "      <td>6743308.00</td>\n",
       "      <td>6888144</td>\n",
       "      <td>0.021251</td>\n",
       "      <td>144836.00</td>\n",
       "    </tr>\n",
       "    <tr>\n",
       "      <th>30449</th>\n",
       "      <td>8020674.00</td>\n",
       "      <td>9227657</td>\n",
       "      <td>0.140182</td>\n",
       "      <td>1206983.00</td>\n",
       "    </tr>\n",
       "    <tr>\n",
       "      <th>30450</th>\n",
       "      <td>9493916.00</td>\n",
       "      <td>12610000</td>\n",
       "      <td>0.283839</td>\n",
       "      <td>3116084.00</td>\n",
       "    </tr>\n",
       "    <tr>\n",
       "      <th>30451</th>\n",
       "      <td>1976981.25</td>\n",
       "      <td>2394300</td>\n",
       "      <td>0.191520</td>\n",
       "      <td>417318.75</td>\n",
       "    </tr>\n",
       "    <tr>\n",
       "      <th>30452</th>\n",
       "      <td>5832684.50</td>\n",
       "      <td>6800000</td>\n",
       "      <td>0.153445</td>\n",
       "      <td>967315.50</td>\n",
       "    </tr>\n",
       "    <tr>\n",
       "      <th>30453</th>\n",
       "      <td>5156243.00</td>\n",
       "      <td>4066740</td>\n",
       "      <td>0.237366</td>\n",
       "      <td>1089503.00</td>\n",
       "    </tr>\n",
       "    <tr>\n",
       "      <th>30454</th>\n",
       "      <td>5644823.00</td>\n",
       "      <td>6300000</td>\n",
       "      <td>0.109811</td>\n",
       "      <td>655177.00</td>\n",
       "    </tr>\n",
       "    <tr>\n",
       "      <th>30455</th>\n",
       "      <td>7479653.50</td>\n",
       "      <td>9014972</td>\n",
       "      <td>0.186701</td>\n",
       "      <td>1535318.50</td>\n",
       "    </tr>\n",
       "    <tr>\n",
       "      <th>30456</th>\n",
       "      <td>7711647.00</td>\n",
       "      <td>1000000</td>\n",
       "      <td>2.042730</td>\n",
       "      <td>6711647.00</td>\n",
       "    </tr>\n",
       "    <tr>\n",
       "      <th>30457</th>\n",
       "      <td>7540703.50</td>\n",
       "      <td>7800000</td>\n",
       "      <td>0.033808</td>\n",
       "      <td>259296.50</td>\n",
       "    </tr>\n",
       "    <tr>\n",
       "      <th>30458</th>\n",
       "      <td>5868022.00</td>\n",
       "      <td>6370777</td>\n",
       "      <td>0.082204</td>\n",
       "      <td>502755.00</td>\n",
       "    </tr>\n",
       "    <tr>\n",
       "      <th>30459</th>\n",
       "      <td>5300032.50</td>\n",
       "      <td>5778893</td>\n",
       "      <td>0.086499</td>\n",
       "      <td>478860.50</td>\n",
       "    </tr>\n",
       "    <tr>\n",
       "      <th>30460</th>\n",
       "      <td>8156961.00</td>\n",
       "      <td>9500000</td>\n",
       "      <td>0.152420</td>\n",
       "      <td>1343039.00</td>\n",
       "    </tr>\n",
       "    <tr>\n",
       "      <th>30461</th>\n",
       "      <td>6738210.00</td>\n",
       "      <td>5000000</td>\n",
       "      <td>0.298356</td>\n",
       "      <td>1738210.00</td>\n",
       "    </tr>\n",
       "    <tr>\n",
       "      <th>30462</th>\n",
       "      <td>6931820.50</td>\n",
       "      <td>10544070</td>\n",
       "      <td>0.419441</td>\n",
       "      <td>3612249.50</td>\n",
       "    </tr>\n",
       "    <tr>\n",
       "      <th>30463</th>\n",
       "      <td>9767212.00</td>\n",
       "      <td>12000000</td>\n",
       "      <td>0.205876</td>\n",
       "      <td>2232788.00</td>\n",
       "    </tr>\n",
       "    <tr>\n",
       "      <th>30464</th>\n",
       "      <td>8204877.00</td>\n",
       "      <td>10262010</td>\n",
       "      <td>0.223720</td>\n",
       "      <td>2057133.00</td>\n",
       "    </tr>\n",
       "    <tr>\n",
       "      <th>30465</th>\n",
       "      <td>5613370.00</td>\n",
       "      <td>6750554</td>\n",
       "      <td>0.184473</td>\n",
       "      <td>1137184.00</td>\n",
       "    </tr>\n",
       "    <tr>\n",
       "      <th>30466</th>\n",
       "      <td>6699173.50</td>\n",
       "      <td>7400000</td>\n",
       "      <td>0.099496</td>\n",
       "      <td>700826.50</td>\n",
       "    </tr>\n",
       "    <tr>\n",
       "      <th>30467</th>\n",
       "      <td>18904780.00</td>\n",
       "      <td>25000000</td>\n",
       "      <td>0.279462</td>\n",
       "      <td>6095220.00</td>\n",
       "    </tr>\n",
       "    <tr>\n",
       "      <th>30468</th>\n",
       "      <td>5182962.00</td>\n",
       "      <td>6970959</td>\n",
       "      <td>0.296376</td>\n",
       "      <td>1787997.00</td>\n",
       "    </tr>\n",
       "    <tr>\n",
       "      <th>30469</th>\n",
       "      <td>10109458.00</td>\n",
       "      <td>13500000</td>\n",
       "      <td>0.289218</td>\n",
       "      <td>3390542.00</td>\n",
       "    </tr>\n",
       "    <tr>\n",
       "      <th>30470</th>\n",
       "      <td>5839080.00</td>\n",
       "      <td>5600000</td>\n",
       "      <td>0.041807</td>\n",
       "      <td>239080.00</td>\n",
       "    </tr>\n",
       "  </tbody>\n",
       "</table>\n",
       "<p>30471 rows × 4 columns</p>\n",
       "</div>"
      ],
      "text/plain": [
       "              pred    target     error         rmse\n",
       "0       5740000.00   5850000  0.018982    110000.00\n",
       "1       5804442.00   6000000  0.033136    195558.00\n",
       "2       5846794.50   5700000  0.025428    146794.50\n",
       "3      11396764.00  13100000  0.139283   1703236.00\n",
       "4      14521574.00  16331452  0.117457   1809878.00\n",
       "5       8177487.50   9100000  0.106889    922512.50\n",
       "6       5842015.50   5500000  0.060328    342015.50\n",
       "7       6032477.00   2000000  1.104010   4032477.00\n",
       "8       6527532.00   5300000  0.208322   1227532.00\n",
       "9       5969677.50   2000000  1.093545   3969677.50\n",
       "10      4813665.00   4650000  0.034592    163665.00\n",
       "11      4393692.50   4800000  0.088446    406307.50\n",
       "12      6164418.00   5100000  0.189553   1064418.00\n",
       "13      4746268.50   5200000  0.091300    453731.50\n",
       "14      5741227.00   5000000  0.138235    741227.00\n",
       "15      6907684.50   1850000  1.317448   5057684.50\n",
       "16      5708160.00   6300000  0.098653    591840.00\n",
       "17      5792046.50   5900000  0.018466    107953.50\n",
       "18      5935339.00   7900000  0.285939   1964661.00\n",
       "19      5391606.00   5200000  0.036184    191606.00\n",
       "20      6253148.50   8200000  0.271049   1946851.50\n",
       "21      5572098.00   5200000  0.069113    372098.00\n",
       "22      7477851.00   6250000  0.179364   1227851.00\n",
       "23      4806448.00   5750000  0.179241    943552.00\n",
       "24      5424978.50   6000000  0.100745    575021.50\n",
       "25      7356777.00   1050000  1.946831   6306777.00\n",
       "26      5617809.50   5000000  0.116504    617809.50\n",
       "27      5110666.50   4700000  0.083767    410666.50\n",
       "28      9674830.00   8254400  0.158782   1420430.00\n",
       "29      5364466.50   5900000  0.095155    535533.50\n",
       "...            ...       ...       ...          ...\n",
       "30441  14879354.00  25039300  0.520471  10159946.00\n",
       "30442   4229646.00   4350000  0.028057    120354.00\n",
       "30443   7427658.00   7567425  0.018642    139767.00\n",
       "30444  11878892.00  11438948  0.037739    439944.00\n",
       "30445   8056114.50  10139368  0.229994   2083253.50\n",
       "30446   7137226.00   6125400  0.152880   1011826.00\n",
       "30447   6170254.00   6373324  0.032381    203070.00\n",
       "30448   6743308.00   6888144  0.021251    144836.00\n",
       "30449   8020674.00   9227657  0.140182   1206983.00\n",
       "30450   9493916.00  12610000  0.283839   3116084.00\n",
       "30451   1976981.25   2394300  0.191520    417318.75\n",
       "30452   5832684.50   6800000  0.153445    967315.50\n",
       "30453   5156243.00   4066740  0.237366   1089503.00\n",
       "30454   5644823.00   6300000  0.109811    655177.00\n",
       "30455   7479653.50   9014972  0.186701   1535318.50\n",
       "30456   7711647.00   1000000  2.042730   6711647.00\n",
       "30457   7540703.50   7800000  0.033808    259296.50\n",
       "30458   5868022.00   6370777  0.082204    502755.00\n",
       "30459   5300032.50   5778893  0.086499    478860.50\n",
       "30460   8156961.00   9500000  0.152420   1343039.00\n",
       "30461   6738210.00   5000000  0.298356   1738210.00\n",
       "30462   6931820.50  10544070  0.419441   3612249.50\n",
       "30463   9767212.00  12000000  0.205876   2232788.00\n",
       "30464   8204877.00  10262010  0.223720   2057133.00\n",
       "30465   5613370.00   6750554  0.184473   1137184.00\n",
       "30466   6699173.50   7400000  0.099496    700826.50\n",
       "30467  18904780.00  25000000  0.279462   6095220.00\n",
       "30468   5182962.00   6970959  0.296376   1787997.00\n",
       "30469  10109458.00  13500000  0.289218   3390542.00\n",
       "30470   5839080.00   5600000  0.041807    239080.00\n",
       "\n",
       "[30471 rows x 4 columns]"
      ]
     },
     "execution_count": 152,
     "metadata": {},
     "output_type": "execute_result"
    }
   ],
   "source": [
    "error"
   ]
  },
  {
   "cell_type": "code",
   "execution_count": 160,
   "metadata": {
    "collapsed": false
   },
   "outputs": [
    {
     "data": {
      "image/png": "[encoded data removed]",
      "text/plain": [
       "<matplotlib.figure.Figure at 0x7fea4993d898>"
      ]
     },
     "metadata": {},
     "output_type": "display_data"
    }
   ],
   "source": [
    "fig, ax = plt.subplots()\n",
    "ax.scatter(y_train, y_pred)\n",
    "ax.set_xlabel('Target')\n",
    "ax.set_ylabel('Predicted')\n",
    "plt.show()"
   ]
  },
  {
   "cell_type": "code",
   "execution_count": 161,
   "metadata": {
    "collapsed": false
   },
   "outputs": [
    {
     "data": {
      "image/png": "[encoded data removed]",
      "text/plain": [
       "<matplotlib.figure.Figure at 0x7fea49955c50>"
      ]
     },
     "metadata": {},
     "output_type": "display_data"
    }
   ],
   "source": [
    "fig, ax = plt.subplots()\n",
    "ax.scatter(y_train,error.error)\n",
    "ax.set_xlabel('Target')\n",
    "ax.set_ylabel('RMSLE Error')\n",
    "plt.show()"
   ]
  },
  {
   "cell_type": "raw",
   "metadata": {},
   "source": []
  },
  {
   "cell_type": "code",
   "execution_count": 150,
   "metadata": {
    "collapsed": false
   },
   "outputs": [
    {
     "data": {
      "text/plain": [
       "20.085536923187668"
      ]
     },
     "execution_count": 150,
     "metadata": {},
     "output_type": "execute_result"
    }
   ],
   "source": [
    "np.exp(3)"
   ]
  },
  {
   "cell_type": "code",
   "execution_count": 162,
   "metadata": {
    "collapsed": false
   },
   "outputs": [
    {
     "data": {
      "image/png": "[encoded data removed]",
      "text/plain": [
       "<matplotlib.figure.Figure at 0x7fea498098d0>"
      ]
     },
     "metadata": {},
     "output_type": "display_data"
    }
   ],
   "source": [
    "fig, ax = plt.subplots()\n",
    "ax.scatter(y_train,error.rmse)\n",
    "ax.set_xlabel('Target')\n",
    "ax.set_ylabel('RMSE error')\n",
    "plt.show()"
   ]
  },
  {
   "cell_type": "code",
   "execution_count": 163,
   "metadata": {
    "collapsed": false
   },
   "outputs": [
    {
     "data": {
      "image/png": "[encoded data removed]",
      "text/plain": [
       "<matplotlib.figure.Figure at 0x7fea498a24a8>"
      ]
     },
     "metadata": {},
     "output_type": "display_data"
    }
   ],
   "source": [
    "fig, ax = plt.subplots()\n",
    "ax.scatter(y_train,np.log(error.rmse/y_train))\n",
    "ax.set_xlabel('Target')\n",
    "ax.set_ylabel('Ratio of Error')\n",
    "plt.show()"
   ]
  },
  {
   "cell_type": "code",
   "execution_count": null,
   "metadata": {
    "collapsed": true
   },
   "outputs": [],
   "source": []
  }
 ],
 "metadata": {
  "kernelspec": {
   "display_name": "Python [conda root]",
   "language": "python",
   "name": "conda-root-py"
  },
  "language_info": {
   "codemirror_mode": {
    "name": "ipython",
    "version": 3
   },
   "file_extension": ".py",
   "mimetype": "text/x-python",
   "name": "python",
   "nbconvert_exporter": "python",
   "pygments_lexer": "ipython3",
   "version": "3.5.2"
  }
 },
 "nbformat": 4,
 "nbformat_minor": 2
}
