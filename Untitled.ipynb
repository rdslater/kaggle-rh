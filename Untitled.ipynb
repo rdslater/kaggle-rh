{
 "cells": [
  {
   "cell_type": "code",
   "execution_count": 1,
   "metadata": {
    "collapsed": false
   },
   "outputs": [
    {
     "ename": "NameError",
     "evalue": "name 'BayesianOptimization' is not defined",
     "output_type": "error",
     "traceback": [
      "\u001b[0;31m---------------------------------------------------------------------------\u001b[0m",
      "\u001b[0;31mNameError\u001b[0m                                 Traceback (most recent call last)",
      "\u001b[0;32m<ipython-input-1-ab0aac98a6e2>\u001b[0m in \u001b[0;36m<module>\u001b[0;34m()\u001b[0m\n\u001b[1;32m      2\u001b[0m \u001b[0;31m# We create the bayes_opt object and pass the function to be maximized\u001b[0m\u001b[0;34m\u001b[0m\u001b[0;34m\u001b[0m\u001b[0m\n\u001b[1;32m      3\u001b[0m \u001b[0;31m# together with the parameters names and their bounds.\u001b[0m\u001b[0;34m\u001b[0m\u001b[0;34m\u001b[0m\u001b[0m\n\u001b[0;32m----> 4\u001b[0;31m bo = BayesianOptimization(lambda x, y: -x ** 2 - (y - 1) ** 2 + 1,\n\u001b[0m\u001b[1;32m      5\u001b[0m                           {'x': (-4, 4), 'y': (-3, 3)})\n\u001b[1;32m      6\u001b[0m \u001b[0;34m\u001b[0m\u001b[0m\n",
      "\u001b[0;31mNameError\u001b[0m: name 'BayesianOptimization' is not defined"
     ]
    }
   ],
   "source": [
    "# Lets find the maximum of a simple quadratic function of two variables\n",
    "# We create the bayes_opt object and pass the function to be maximized\n",
    "# together with the parameters names and their bounds.\n",
    "\n",
    "\n",
    "# One of the things we can do with this object is pass points\n",
    "# which we want the algorithm to probe. A dictionary with the\n",
    "# parameters names and a list of values to include in the search\n",
    "# must be given.\n",
    "bo.explore({'x': [-1, 3], 'y': [-2, 2]})\n",
    "\n",
    "# Additionally, if we have any prior knowledge of the behaviour of\n",
    "# the target function (even if not totally accurate) we can also\n",
    "# tell that to the optimizer.\n",
    "# Here we pass a dictionary with 'target' and parameter names as keys and a\n",
    "# list of corresponding values\n",
    "bo.initialize(\n",
    "    {\n",
    "        'target': [-1, -1],\n",
    "        'x': [1, 1],\n",
    "        'y': [0, 2]\n",
    "    }\n",
    ")\n",
    "\n",
    "# Once we are satisfied with the initialization conditions\n",
    "# we let the algorithm do its magic by calling the maximize()\n",
    "# method.\n",
    "bo.maximize(init_points=5, n_iter=15, kappa=2)\n",
    "\n",
    "# The output values can be accessed with self.res\n",
    "print(bo.res['max'])\n",
    "\n",
    "# If we are not satisfied with the current results we can pickup from\n",
    "# where we left, maybe pass some more exploration points to the algorithm\n",
    "# change any parameters we may choose, and the let it run again.\n",
    "bo.explore({'x': [0.6], 'y': [-0.23]})\n",
    "\n",
    "# Making changes to the gaussian process can impact the algorithm\n",
    "# dramatically.\n",
    "gp_params = {'kernel': None,\n",
    "             'alpha': 1e-5}\n",
    "\n",
    "# Run it again with different acquisition function\n",
    "bo.maximize(n_iter=5, acq='ei', **gp_params)\n",
    "\n",
    "# Finally, we take a look at the final results.\n",
    "print(bo.res['max'])\n",
    "print(bo.res['all'])"
   ]
  },
  {
   "cell_type": "code",
   "execution_count": 59,
   "metadata": {
    "collapsed": false
   },
   "outputs": [],
   "source": [
    "from bayes_opt import BayesianOptimization\n",
    "bo = BayesianOptimization(lambda x, y: -x ** 2 - (y - 1) ** 2 + 1,\n",
    "                          {'x': (-4, 4), 'y': (-3, 3)})"
   ]
  },
  {
   "cell_type": "code",
   "execution_count": 60,
   "metadata": {
    "collapsed": false
   },
   "outputs": [],
   "source": [
    "bo.explore({'x': [1,1], 'y': [0,2]})"
   ]
  },
  {
   "cell_type": "code",
   "execution_count": 50,
   "metadata": {
    "collapsed": false
   },
   "outputs": [
    {
     "data": {
      "text/plain": [
       "{'max_params': None, 'max_val': None}"
      ]
     },
     "execution_count": 50,
     "metadata": {},
     "output_type": "execute_result"
    }
   ],
   "source": [
    "bo.res['max']"
   ]
  },
  {
   "cell_type": "code",
   "execution_count": 61,
   "metadata": {
    "collapsed": false
   },
   "outputs": [
    {
     "name": "stdout",
     "output_type": "stream",
     "text": [
      "\u001b[31mInitialization\u001b[0m\n",
      "\u001b[94m-----------------------------------------------------\u001b[0m\n",
      " Step |   Time |      Value |         x |         y | \n",
      "    1 | 00m00s | \u001b[35m  -1.00000\u001b[0m | \u001b[32m   1.0000\u001b[0m | \u001b[32m   0.0000\u001b[0m | \n",
      "    2 | 00m00s |   -1.00000 |    1.0000 |    2.0000 | \n",
      "    3 | 00m00s |   -3.89345 |   -1.6867 |    2.4313 | \n",
      "    4 | 00m00s |  -28.14418 |    3.9530 |   -2.6767 | \n",
      "    5 | 00m00s |  -12.60049 |    2.8226 |   -1.3735 | \n",
      "    6 | 00m00s |   -1.54295 |   -1.3860 |    1.7886 | \n",
      "    7 | 00m00s |  -11.85890 |    3.0398 |    2.9023 | \n",
      "\u001b[31mBayesian Optimization\u001b[0m\n",
      "\u001b[94m-----------------------------------------------------\u001b[0m\n",
      " Step |   Time |      Value |         x |         y | \n",
      "    8 | 00m03s |  -31.00000 |   -4.0000 |   -3.0000 | \n",
      "    9 | 00m01s | \u001b[35m   0.88267\u001b[0m | \u001b[32m  -0.2388\u001b[0m | \u001b[32m   0.7545\u001b[0m | \n",
      "   10 | 00m02s |  -19.00000 |   -4.0000 |    3.0000 | \n",
      "   11 | 00m02s |    0.42288 |   -0.1115 |    1.7515 | \n",
      "   12 | 00m02s |    0.78890 |    0.4590 |    1.0210 | \n",
      "   13 | 00m02s |   -0.47286 |   -0.2711 |   -0.1830 | \n",
      "   14 | 00m02s |   -3.00278 |   -0.0527 |    3.0000 | \n",
      "   15 | 00m02s |    0.65031 |   -0.5560 |    1.2015 | \n",
      "   16 | 00m03s | \u001b[35m   0.95909\u001b[0m | \u001b[32m   0.0086\u001b[0m | \u001b[32m   1.2021\u001b[0m | \n",
      "   17 | 00m08s |    0.67914 |    0.2424 |    0.4881 | \n",
      "   18 | 00m04s |   -0.06083 |   -0.9384 |    0.5754 | \n",
      "   19 | 00m05s |    0.57760 |    0.4054 |    1.5080 | \n",
      "   20 | 00m05s | \u001b[35m   0.97236\u001b[0m | \u001b[32m   0.1047\u001b[0m | \u001b[32m   0.8709\u001b[0m | \n",
      "   21 | 00m04s |   -0.00716 |    1.0034 |    0.9817 | \n",
      "   22 | 00m04s |    0.94878 |   -0.2202 |    1.0525 | \n"
     ]
    }
   ],
   "source": [
    "bo.maximize(init_points=5, n_iter=15, kappa=5)"
   ]
  },
  {
   "cell_type": "code",
   "execution_count": null,
   "metadata": {
    "collapsed": true
   },
   "outputs": [],
   "source": []
  }
 ],
 "metadata": {
  "kernelspec": {
   "display_name": "Python [conda root]",
   "language": "python",
   "name": "conda-root-py"
  },
  "language_info": {
   "codemirror_mode": {
    "name": "ipython",
    "version": 3
   },
   "file_extension": ".py",
   "mimetype": "text/x-python",
   "name": "python",
   "nbconvert_exporter": "python",
   "pygments_lexer": "ipython3",
   "version": "3.5.2"
  }
 },
 "nbformat": 4,
 "nbformat_minor": 2
}
